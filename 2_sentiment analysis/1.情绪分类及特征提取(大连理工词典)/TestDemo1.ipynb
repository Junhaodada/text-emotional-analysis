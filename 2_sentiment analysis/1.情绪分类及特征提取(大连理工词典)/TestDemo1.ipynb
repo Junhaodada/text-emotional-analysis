{
 "cells": [
  {
   "cell_type": "markdown",
   "metadata": {},
   "source": [
    "# 获取数据集"
   ]
  },
  {
   "cell_type": "code",
   "execution_count": 9,
   "metadata": {},
   "outputs": [
    {
     "name": "stdout",
     "output_type": "stream",
     "text": [
      "       id        time                                             review\n",
      "0     红骷髅  2019/11/26                            达康书记的脸配上陈萍萍的名字，有种莫名的喜感。\n",
      "1   黑色星期五  2019/11/26            这剧真是超豪华阵容呀，想看陈道明和张若昀的父子大戏，很喜欢达康书记演的陈萍萍。\n",
      "2   沫沫在流浪  2019/11/26                                              过审鬼才。\n",
      "3  Egorka  2019/11/26                          服道化low如于妈制作的雷剧 张若昀也是丑的没眼看\n",
      "4   红色高跟鞋  2019/11/26  终于开播了，就冲这演员阵容不看真的可惜，陈道明，吴刚……虽然我没看过小说但超级期待，听说郭麒...\n"
     ]
    }
   ],
   "source": [
    "import pandas as pd\n",
    "import jieba\n",
    "import time\n",
    "\n",
    "f=open('庆余年220.csv',encoding='utf8')\n",
    "weibo_df=pd.read_csv(f)\n",
    "print(weibo_df.head())"
   ]
  },
  {
   "cell_type": "markdown",
   "metadata": {},
   "source": [
    "# 情感词典读取"
   ]
  },
  {
   "cell_type": "code",
   "execution_count": 10,
   "metadata": {},
   "outputs": [
    {
     "name": "stdout",
     "output_type": "stream",
     "text": [
      "    词语  词性种类  词义数  词义序号 情感分类  强度  极性 辅助情感分类  强度.1  极性.1 Unnamed: 10  \\\n",
      "0   脏乱   adj  1.0   1.0   NN   7   2    NaN   NaN   NaN         NaN   \n",
      "1   糟报   adj  1.0   1.0   NN   5   2    NaN   NaN   NaN         NaN   \n",
      "2   早衰   adj  1.0   1.0   NE   5   2    NaN   NaN   NaN         NaN   \n",
      "3   责备  verb  1.0   1.0   NN   5   2    NaN   NaN   NaN         NaN   \n",
      "4   贼眼  noun  1.0   1.0   NN   5   2    NaN   NaN   NaN         NaN   \n",
      "5   战祸  noun  1.0   1.0   ND   5   2     NC   5.0   2.0         NaN   \n",
      "6   招灾   adj  1.0   1.0   NN   5   2    NaN   NaN   NaN         NaN   \n",
      "7   折辱  noun  1.0   1.0   NE   5   2     NN   5.0   2.0         NaN   \n",
      "8  中山狼  noun  1.0   1.0   NN   5   2    NaN   NaN   NaN         NaN   \n",
      "9   清峻   adj  1.0   1.0   PH   5   0    NaN   NaN   NaN         NaN   \n",
      "\n",
      "   Unnamed: 11  \n",
      "0          NaN  \n",
      "1          NaN  \n",
      "2          NaN  \n",
      "3          NaN  \n",
      "4          NaN  \n",
      "5          NaN  \n",
      "6          NaN  \n",
      "7          NaN  \n",
      "8          NaN  \n",
      "9          NaN  \n"
     ]
    }
   ],
   "source": [
    "df=pd.read_excel('大连理工大学中文情感词汇本体NAU.xlsx')\n",
    "print(df.head(10))"
   ]
  },
  {
   "cell_type": "markdown",
   "metadata": {},
   "source": [
    "# 七种情绪的应用"
   ]
  },
  {
   "cell_type": "code",
   "execution_count": 12,
   "metadata": {},
   "outputs": [
    {
     "name": "stdout",
     "output_type": "stream",
     "text": [
      "情绪词语列表整理完成\n",
      "['忿忿不平', '怒火冲天', '气愤愤', '失落', '愤懑', '悲愤', '勃然大怒', '含怒', '恼羞成怒', '忿怒', '七窍生烟', '发标', '怒容', '吹胡子', '唱老生的生气－吹胡子瞪眼镜', '暴跳如雷', '戟指怒目', '怒形于色', '怒目切齿', '敢怒不敢言', '除恶务尽', '逼上梁山', '阴沉', '急眼', '看扁', '气鼓鼓', '投诉', '令人生气', '没好气', '民怨沸腾', '悲愤交加', '大动肝火', '火气', '怒不可遏', '惹气', '窝火', '光火', '无明火', '耍态度', '触怒', '怒色', '犯肝气', '吃了芋头不下肚－顶心顶肺', '勃然变色', '雷霆之怒', '拍案而起', '切齿愤盈', '我靠', 'kao', 'gun', '吵嘴', '羞愤', '气急败坏', '嗟来之食', '火暴', '气忿', '无名火起', '愤愤不平', '暴怒', '愤怒', '恼火', '气冲冲', '义愤', '挂气', '愤愤', '私愤', '赌气', '横眉', '一刀两段', '一气一个死', '火箭筒射击－两头冒火', '怫然作色', '怒气冲冲', '义愤填膺', '上等轮胎－有气难出', '睚眦', '可气', '当场出彩', '针锋相对', 'TNND', '滚出去', '哇靠', '郁怒', '疾言厉色', '火冒三丈', '义形于色', '忿忿', '抗议', '面有愠色', '气忿忿', '割席断交', '天怒人怨', '悲愤填膺', '郁愤', '纳鞋底戳了手－真气人', '愤世嫉俗', '愤然', '恼怒', '气愤', '震怒', '动肝火', '悻然', '负气', '横眉怒目', '奇耻大辱', '草场着火－火气冲天', '怒气冲天', '气呼呼', 'MD', '真TM', '你丫', '嗔怒', '叱呵', '不甘示弱', '寒碜', '抱不平', '来气', '气汹汹', '竟敢', '愤激', '气不忿', '忧愤', '愤慨', '民愤', '怒视', '易怒', '动气', '大发雷霆', '公愤', '泄愤', '怒目', '一刀两断', '三尸暴跳，七窍生烟', '皇上拍桌子－盛怒', '艴然不悦', '怒目而视', '声色俱厉', '热锅上的蒸笼－气到顶了', '偾事', '怒气', '气冲牛斗', '火性', '不忿', '动怒', '面带怒色', '使人发怒', '饮恨吞声', '鼓囊囊的皮球－有气', '告非', '拂袖', '迁怒于人', '撒气', '数说', '甩脸子', '怫然', '厉声', '努牙突嘴', '气哼哼', '老羞成怒', '一怒之下', '盛怒', '众怒', '发指眦裂', '怒发冲冠', '叱喝', '咬牙切齿', '火头上', '面带嗔色', '微愠', '愠怒', '冷厉', '气势汹汹', '发脾气', '拍案', '杀气', '羞辱', '扬长而去', '走气门', '寒天吃冰棍－心里有火', '愤然作色', '攘臂嗔目', '忧愤成疾', '不服气', '爆发', '叫嚣', '狠劲', '发指', '气狠狠', '激愤', '发怒', '挂火', '感愤', '生闲气', '吹夹生饭－胀气', '人神共愤', '扫地出门', '破脸', '拂袖而去', '气冲斗牛', '肝火', '怒冲冲', '骂不绝口', '愤愤然', '出气', '仇人相见,分外眼红', '落草为寇', '恩断义绝', '冒渎', '上火', '不平', '筋疲力尽', '怒火中烧', '惯愤不平', '戏耍', '七窍冒火', '竭泽而渔', '指桑骂槐 ', '柳眉剔竖', '敌台', '貂裘换酒', '翘辫子', '曝骨履肠', '欺君罔上', '气急败丧', '直木先伐', '住手', '抓破面皮', '揎拳捋袖', '怏怏不乐', '复仇', '发上指冠', '敌忾', '植发穿冠', '握拳透爪', '污手垢面', '呵喝', '变脸', '植发冲冠', '豁出去', '无明业火', '掊击', '眼中钉', '格杀弗论', '肉中刺', '惩治', '狭路相逢', '仇人相见，分外眼红', '变色', '负屈衔冤', '狗血淋头', '焚林而猎', '拳打脚踢', '挑眼', '精疲力竭', '糟害', '鱼瞵鹗睨', '柳眉倒竖', '捰袖揎拳', '雷嗔电怒', '全无心肝', '狗嘴里吐不出象牙', '抓破脸子', '发踊冲冠', '忿火中烧', '瞪眼', '敌焰', '敲边鼓', '攒锋聚镝', '嚼穿龈血', '岂有是理', '清君侧', '启瞶振聋', '宣泄', '抓破脸皮', '一朝之忿', '怨气满腹', '发上冲冠', '敌情', '攞袖揎拳', '火冒三尺', '戟指嚼舌', '握拳透掌', '惩办', '使心彆气', '狐不二雄', '檑木', '起火', '恼羞变怒', '格杀无论', '诟龟呼天', '新仇旧恨', '棒喝', '心火', '割席分坐', '牺牲品', '闲气', '造反', '饮气吞声', '狼顾虎视', '焚骨扬灰', '种族主义', '强取', '狼嗥狗叫', '飘瓦虚舟', '卧榻之侧，岂容他人鼾睡', '背黑锅', '陪葬', '劈头', '惩罚', '枕干之雠', '直眉怒目', '横眉努目', '叵耐', '气不忿儿', '敢怒而不敢言', '剖白', '暴跳', '忿忿然', '打群架', '冒大不韪', '交詈聚唾', '愤不欲生', '赫然', '抵命', '种族歧视', '决一死战', '狂轰滥炸', '狼顾鸢视', '情怨理遣', '匹夫无罪，怀璧其罪', '暗气暗恼', '捉鸡骂狗', '喑恶叱咤', '报仇', '咆哮', '横眉立眼', '横眉瞪眼', '狞髯张目', '惩处', '横眉冷眼', '嫉恶若仇', '渎犯', '旧愁新恨', '深仇重怨', '洗雪逋负', '怨气冲天', '攘除', '正言厉色', '勃然', '哀的美敦书', '发怒冲冠', '敌手', '血债', '欺上罔下', '盱衡厉色', '2气斗狠', '枕戈饮血', '格杀勿论', '扬眉瞬目', '刻骨仇恨', '气涌如山', '脸红筋涨', '捉奸', '忿然作色', '敌阵', '辩诬', '枕戈泣血', '直眉瞪眼', '呼天籥地', '无名火气', '扬眉眴目', '活该', '追击', '负气斗狠', '柳眉踢竖', '龙屈蛇伸', '鳌愤龙愁', '刻骨仇很', '横眉立目', '横眉瞪目', '喝西北风', '疾恶如仇', '揉搓', '盗憎主人', '扑杀此獠', '冤家路窄', '脾气', '太岁头上动土']\n"
     ]
    }
   ],
   "source": [
    "Happy = []\n",
    "Good = []\n",
    "Surprise = []\n",
    "Anger = []\n",
    "Sad = []\n",
    "Fear = []\n",
    "Disgust = []\n",
    "\n",
    "#df.iterrows()功能是迭代遍历每一行\n",
    "for idx, row in df.iterrows():\n",
    "    if row['情感分类'] in ['PA', 'PE']:\n",
    "        Happy.append(row['词语'])\n",
    "    if row['情感分类'] in ['PD', 'PH', 'PG', 'PB', 'PK']:\n",
    "        Good.append(row['词语']) \n",
    "    if row['情感分类'] in ['PC']:\n",
    "        Surprise.append(row['词语'])       \n",
    "    if row['情感分类'] in ['NB', 'NJ', 'NH', 'PF']:\n",
    "        Sad.append(row['词语'])\n",
    "    if row['情感分类'] in ['NI', 'NC', 'NG']:\n",
    "        Fear.append(row['词语'])\n",
    "    if row['情感分类'] in ['NE', 'ND', 'NN', 'NK', 'NL']:\n",
    "        Disgust.append(row['词语'])\n",
    "    if row['情感分类'] in ['NAU']:     #修改: 原NA算出来没结果\n",
    "        Anger.append(row['词语'])  \n",
    "\n",
    "#正负计算不是很准 自己可以制定规则       \n",
    "Positive = Happy + Good + Surprise\n",
    "Negative = Anger + Sad + Fear + Disgust\n",
    "print('情绪词语列表整理完成')  \n",
    "print(Anger)\n"
   ]
  },
  {
   "cell_type": "markdown",
   "metadata": {},
   "source": [
    "# 中文分词"
   ]
  },
  {
   "cell_type": "code",
   "execution_count": 28,
   "metadata": {},
   "outputs": [
    {
     "name": "stdout",
     "output_type": "stream",
     "text": [
      "我爱你\n",
      "宝贝\n",
      "！\n",
      "['我爱你', '宝贝']\n"
     ]
    }
   ],
   "source": [
    "stop_list = pd.read_csv('stop_words.txt',\n",
    "                        engine='python',\n",
    "                        encoding='utf-8',\n",
    "                        delimiter=\"\\n\",\n",
    "                        names=['t'])\n",
    "# print(stop_list)\n",
    "stop_list=stop_list['t'].tolist()\n",
    "# print(stop_list)\n",
    "\n",
    "def txt_cut(juzi):\n",
    "    return [w for w in jieba.lcut(juzi) if w not in stop_list]\n",
    "\n",
    "for i in jieba.lcut('我爱你宝贝！',cut_all=True):\n",
    "    print(i)\n",
    "print(txt_cut('请问？我爱你宝贝！'))"
   ]
  },
  {
   "cell_type": "markdown",
   "metadata": {},
   "source": [
    "# 情感计算"
   ]
  },
  {
   "cell_type": "code",
   "execution_count": 29,
   "metadata": {},
   "outputs": [],
   "source": [
    "def emotion_caculate(text):\n",
    "    positive = 0\n",
    "    negative = 0\n",
    "    \n",
    "    anger = 0\n",
    "    disgust = 0\n",
    "    fear = 0\n",
    "    sad = 0\n",
    "    surprise = 0\n",
    "    good = 0\n",
    "    happy = 0\n",
    "\n",
    "    anger_list = []\n",
    "    disgust_list = []\n",
    "    fear_list = []\n",
    "    sad_list = []\n",
    "    surprise_list = []\n",
    "    good_list = []\n",
    "    happy_list = []\n",
    "    \n",
    "    wordlist = txt_cut(text)\n",
    "    #wordlist = jieba.lcut(text)\n",
    "    wordset = set(wordlist)\n",
    "    wordfreq = []\n",
    "    for word in wordset:\n",
    "        freq = wordlist.count(word)\n",
    "        if word in Positive:\n",
    "            positive+=freq\n",
    "        if word in Negative:\n",
    "            negative+=freq\n",
    "        if word in Anger:\n",
    "            anger+=freq\n",
    "            anger_list.append(word)\n",
    "        if word in Disgust:\n",
    "            disgust+=freq\n",
    "            disgust_list.append(word)\n",
    "        if word in Fear:\n",
    "            fear+=freq\n",
    "            fear_list.append(word)\n",
    "        if word in Sad:\n",
    "            sad+=freq\n",
    "            sad_list.append(word)\n",
    "        if word in Surprise:\n",
    "            surprise+=freq\n",
    "            surprise_list.append(word)\n",
    "        if word in Good:\n",
    "            good+=freq\n",
    "            good_list.append(word)\n",
    "        if word in Happy:\n",
    "            happy+=freq\n",
    "            happy_list.append(word)\n",
    "            \n",
    "    emotion_info = {\n",
    "        'length':len(wordlist),\n",
    "        'positive': positive,\n",
    "        'negative': negative,\n",
    "        'anger': anger,\n",
    "        'disgust': disgust,\n",
    "        'fear':fear,\n",
    "        'good':good,\n",
    "        'sadness':sad,\n",
    "        'surprise':surprise,\n",
    "        'happy':happy,\n",
    "        \n",
    "    }\n",
    "\n",
    "    indexs = ['length', 'positive', 'negative', 'anger', 'disgust','fear','sadness','surprise', 'good', 'happy']\n",
    "    #return pd.Series(emotion_info, index=indexs), anger_list, disgust_list, fear_list, sad_list, surprise_list, good_list, happy_list\n",
    "    return pd.Series(emotion_info, index=indexs)\n",
    "\n"
   ]
  },
  {
   "cell_type": "code",
   "execution_count": 30,
   "metadata": {
    "scrolled": true
   },
   "outputs": [
    {
     "name": "stdout",
     "output_type": "stream",
     "text": [
      "length      88\n",
      "positive     7\n",
      "negative     6\n",
      "anger        0\n",
      "disgust      6\n",
      "fear         0\n",
      "sadness      0\n",
      "surprise     0\n",
      "good         6\n",
      "happy        1\n",
      "dtype: int64\n"
     ]
    }
   ],
   "source": [
    "text = \"\"\"\n",
    "原著的确更吸引编剧读下去，所以跟《诛仙》系列明显感觉到编剧只看过故事大纲比，这个剧的编剧完整阅读过小说。\n",
    "配乐活泼俏皮，除了强硬穿越的台词轻微尴尬，最应该尴尬的感情戏反而入戏，故意模糊了陈萍萍的太监身份、太子跟长公主的暧昧关系，\n",
    "整体观影感受极好，很期待第二季拍大东山之役。玩弄人心的阴谋阳谋都不狗血，架空的设定能摆脱历史背景，服装道具能有更自由的发挥空间，\n",
    "特别喜欢庆帝的闺房。以后还是少看国产剧，太长了，还是精短美剧更适合休闲，追这个太累。王启年真是太可爱了。\n",
    "\"\"\"\n",
    "res=emotion_caculate(text)\n",
    "print(res)"
   ]
  },
  {
   "cell_type": "code",
   "execution_count": 34,
   "metadata": {},
   "outputs": [
    {
     "name": "stdout",
     "output_type": "stream",
     "text": [
      "3.7902393341064453\n",
      "   length  positive  negative  anger  disgust  fear  sadness  surprise  good  \\\n",
      "0       8         0         0      0        0     0        0         0     0   \n",
      "1      15         1         0      0        0     0        0         0     1   \n",
      "2       2         0         0      0        0     0        0         0     0   \n",
      "3      12         0         0      0        0     0        0         0     0   \n",
      "4      28         1         1      0        0     0        1         0     1   \n",
      "\n",
      "   happy  \n",
      "0      0  \n",
      "1      0  \n",
      "2      0  \n",
      "3      0  \n",
      "4      0  \n",
      "          id        time                                             review  \\\n",
      "130       苏彻  2019/11/27  书粉来的，截止到11月27日晚7点，豆瓣评分7.9分，评价人数9619人。\\n我不知道这个评...   \n",
      "59       蘭羽藜  2019/11/26                          妈呀太可怕了！真的是！预告和正片是一个东西吗？？！   \n",
      "70       kik  2019/11/27            一集弃，又是一部男频公路片，角色没头苍蝇，剧情漫无目的，台词又尬又水，这也能吹   \n",
      "92      小鑫大人  2019/11/30  没看过原著。看过的话估计也是yy小说。主角开挂。各种奇遇。身边都是美女。  这不和什么极品家...   \n",
      "39      浮云似梦  2019/11/26            男主丑到吓人居然演美男，没有自知之明么？男频文改编剧还是这么难看，能不能不拍了   \n",
      "..       ...         ...                                                ...   \n",
      "79      乐彼之园  2019/11/27                                            什么胡诌八扯的   \n",
      "80   超级马里奥大叔  2019/11/27  我是晕了吗？这剧怎么拍成这样了？不是大剧正剧吗？怎么成穿越剧？重生剧？什么鬼……满屏都是尬尬...   \n",
      "81      宁静致远  2019/11/28                      感觉和评五星的人看的不是同一部剧，老戏骨们为啥接这样的剧。   \n",
      "82        笔者  2019/11/27  “嚯！为陈道明去看！相信他的眼光！！”撤回撤回。\\n为了集数而磨叽，哪里看出了不拖沓……\\n...   \n",
      "219     荒井波萝  2019/11/28                                       郭麒麟真的好可爱！！！！   \n",
      "\n",
      "     length  positive  negative  anger  disgust  fear  sadness  surprise  \\\n",
      "130     124         4         7      0        5     2        0         0   \n",
      "59        8         0         1      0        0     1        0         0   \n",
      "70       15         0         2      0        1     1        0         0   \n",
      "92       75         9         2      0        1     1        0         1   \n",
      "39       13         1         2      0        1     1        0         0   \n",
      "..      ...       ...       ...    ...      ...   ...      ...       ...   \n",
      "79        2         0         1      0        1     0        0         0   \n",
      "80       35         3         1      0        0     0        1         1   \n",
      "81        9         0         0      0        0     0        0         0   \n",
      "82       21         2         1      0        0     0        1         0   \n",
      "219       4         1         0      0        0     0        0         0   \n",
      "\n",
      "     good  happy  \n",
      "130     4      0  \n",
      "59      0      0  \n",
      "70      0      0  \n",
      "92      7      1  \n",
      "39      1      0  \n",
      "..    ...    ...  \n",
      "79      0      0  \n",
      "80      2      0  \n",
      "81      0      0  \n",
      "82      2      0  \n",
      "219     1      0  \n",
      "\n",
      "[220 rows x 13 columns]\n",
      "130    书粉来的，截止到11月27日晚7点，豆瓣评分7.9分，评价人数9619人。\\n我不知道这个评...\n",
      "59                             妈呀太可怕了！真的是！预告和正片是一个东西吗？？！\n",
      "70               一集弃，又是一部男频公路片，角色没头苍蝇，剧情漫无目的，台词又尬又水，这也能吹\n",
      "92     没看过原著。看过的话估计也是yy小说。主角开挂。各种奇遇。身边都是美女。  这不和什么极品家...\n",
      "39               男主丑到吓人居然演美男，没有自知之明么？男频文改编剧还是这么难看，能不能不拍了\n",
      "Name: review, dtype: object\n"
     ]
    }
   ],
   "source": [
    "text = \"\"\"\n",
    "原著的确更吸引编剧读下去，所以跟《诛仙》系列明显感觉到编剧只看过故事大纲比，这个剧的编剧完整阅读过小说。\n",
    "配乐活泼俏皮，除了强硬穿越的台词轻微尴尬，最应该尴尬的感情戏反而入戏，故意模糊了陈萍萍的太监身份、太子跟长公主的暧昧关系，\n",
    "整体观影感受极好，很期待第二季拍大东山之役。玩弄人心的阴谋阳谋都不狗血，架空的设定能摆脱历史背景，服装道具能有更自由的发挥空间，\n",
    "特别喜欢庆帝的闺房。以后还是少看国产剧，太长了，还是精短美剧更适合休闲，追这个太累。王启年真是太可爱了。\n",
    "\"\"\"\n",
    "start = time.time()   \n",
    "emotion_df = weibo_df['review'].apply(emotion_caculate)\n",
    "end = time.time()\n",
    "print(end-start)\n",
    "print(emotion_df.head())\n",
    "\n",
    "#输出结果\n",
    "output_df = pd.concat([weibo_df, emotion_df], axis=1)\n",
    "# output_df.to_csv('庆余年220_emotion.csv',encoding='utf_8_sig', index=False)\n",
    "# print(output_df.head())\n",
    "\n",
    "fear_content = output_df.sort_values(by='fear',ascending=False)\n",
    "print(fear_content)\n",
    "print(fear_content.iloc[0:5]['review'])\n"
   ]
  }
 ],
 "metadata": {
  "kernelspec": {
   "display_name": "Python [conda env:root] *",
   "language": "python",
   "name": "conda-root-py"
  },
  "language_info": {
   "codemirror_mode": {
    "name": "ipython",
    "version": 3
   },
   "file_extension": ".py",
   "mimetype": "text/x-python",
   "name": "python",
   "nbconvert_exporter": "python",
   "pygments_lexer": "ipython3",
   "version": "3.8.5"
  }
 },
 "nbformat": 4,
 "nbformat_minor": 4
}
