{
 "cells": [
  {
   "cell_type": "code",
   "execution_count": 2,
   "source": [
    "# coding: utf-8\r\n",
    "from pyecharts.globals import SymbolType\r\n",
    "from pyecharts.charts import WordCloud\r\n",
    "from pyecharts import options as opts\r\n",
    "import csv\r\n",
    "import pandas as pd\r\n",
    "import operator\r\n"
   ],
   "outputs": [],
   "metadata": {}
  },
  {
   "cell_type": "code",
   "execution_count": 3,
   "source": [
    "# ------------------------------------统计结果------------------------------------\r\n",
    "# 读取数据\r\n",
    "f = open('Emotion_features2.csv')\r\n",
    "data = pd.read_csv(f)\r\n",
    "print(data.head())\r\n"
   ],
   "outputs": [
    {
     "output_type": "stream",
     "name": "stdout",
     "text": [
      "  Emotion Word  Num\n",
      "0     qd5   喜欢    1\n",
      "1     qd5   希望    1\n",
      "2     qd5   可惜    1\n",
      "3     qd7   惊喜    1\n",
      "4     qd5   希望    1\n"
     ]
    }
   ],
   "metadata": {}
  },
  {
   "cell_type": "code",
   "execution_count": 4,
   "source": [
    "# 统计结果\r\n",
    "groupnum = data.groupby(['Emotion']).size()\r\n",
    "print(groupnum)\r\n",
    "print(\"\")\r\n"
   ],
   "outputs": [
    {
     "output_type": "stream",
     "name": "stdout",
     "text": [
      "Emotion\n",
      "qd1     33\n",
      "qd3    158\n",
      "qd4      1\n",
      "qd5    230\n",
      "qd6      1\n",
      "qd7     94\n",
      "qd9     35\n",
      "dtype: int64\n",
      "\n"
     ]
    }
   ],
   "metadata": {}
  },
  {
   "cell_type": "code",
   "execution_count": 5,
   "source": [
    "# 分组统计\r\n",
    "for groupname, grouplist in data.groupby('Emotion'):\r\n",
    "    print(groupname)\r\n",
    "    print(grouplist)\r\n"
   ],
   "outputs": [
    {
     "output_type": "stream",
     "name": "stdout",
     "text": [
      "qd1\n",
      "    Emotion  Word  Num\n",
      "21      qd1    闲人    1\n",
      "27      qd1    猫腻    1\n",
      "34      qd1    合理    1\n",
      "38      qd1    猫腻    1\n",
      "66      qd1    白搭    1\n",
      "86      qd1    十足    1\n",
      "105     qd1    紧凑    1\n",
      "123     qd1    堆砌    1\n",
      "139     qd1    实际    1\n",
      "163     qd1    小生    1\n",
      "184     qd1    游荡    1\n",
      "249     qd1    单薄    1\n",
      "277     qd1    猫腻    1\n",
      "280     qd1    实际    1\n",
      "288     qd1    担心    1\n",
      "289     qd1    猫腻    1\n",
      "355     qd1    乐天    1\n",
      "369     qd1    国事    1\n",
      "377     qd1    忍让    1\n",
      "381     qd1    小生    1\n",
      "388     qd1    手段    1\n",
      "399     qd1    猫腻    1\n",
      "407     qd1    紧凑    1\n",
      "411     qd1    惆怅    1\n",
      "418     qd1    散乱    1\n",
      "425     qd1    缓慢    1\n",
      "433     qd1    过时    1\n",
      "439     qd1  大张旗鼓    1\n",
      "442     qd1    担心    1\n",
      "511     qd1    担心    2\n",
      "524     qd1    强硬    1\n",
      "527     qd1    模糊    1\n",
      "541     qd1    展现    1\n",
      "qd3\n",
      "    Emotion  Word  Num\n",
      "7       qd3    威武    1\n",
      "8       qd3    反派    1\n",
      "9       qd3    不错    1\n",
      "10      qd3    认可    1\n",
      "13      qd3  天昏地暗    1\n",
      "..      ...   ...  ...\n",
      "535     qd3    璀璨    1\n",
      "539     qd3    真正    1\n",
      "540     qd3    真正    1\n",
      "544     qd3    悬念    1\n",
      "547     qd3    节奏    1\n",
      "\n",
      "[158 rows x 3 columns]\n",
      "qd4\n",
      "    Emotion Word  Num\n",
      "397     qd4   毛病    1\n",
      "qd5\n",
      "    Emotion  Word  Num\n",
      "0       qd5    喜欢    1\n",
      "1       qd5    希望    1\n",
      "2       qd5    可惜    1\n",
      "4       qd5    希望    1\n",
      "5       qd5    强大    1\n",
      "..      ...   ...  ...\n",
      "545     qd5    喜欢    1\n",
      "548     qd5    紧张    1\n",
      "549     qd5  赏心悦目    1\n",
      "550     qd5  赏心悦目    1\n",
      "551     qd5    可爱    1\n",
      "\n",
      "[230 rows x 3 columns]\n",
      "qd6\n",
      "    Emotion Word  Num\n",
      "325     qd6   捧场    1\n",
      "qd7\n",
      "    Emotion Word  Num\n",
      "3       qd7   惊喜    1\n",
      "15      qd7   精彩    1\n",
      "16      qd7   必须    1\n",
      "20      qd7   好评    1\n",
      "22      qd7   起来    1\n",
      "..      ...  ...  ...\n",
      "503     qd7   一流    1\n",
      "505     qd7   主角    1\n",
      "517     qd7   奔腾    1\n",
      "537     qd7   重要    1\n",
      "546     qd7   推荐    1\n",
      "\n",
      "[94 rows x 3 columns]\n",
      "qd9\n",
      "    Emotion  Word  Num\n",
      "39      qd9    尴尬    1\n",
      "67      qd9    尴尬    1\n",
      "71      qd9    猥琐    1\n",
      "98      qd9    尴尬    1\n",
      "109     qd9  一塌糊涂    1\n",
      "125     qd9    忍受    1\n",
      "130     qd9    经典    1\n",
      "135     qd9    弱智    1\n",
      "164     qd9    缺点    1\n",
      "191     qd9    猥琐    1\n",
      "197     qd9    极品    1\n",
      "222     qd9    不凡    1\n",
      "256     qd9    尴尬    1\n",
      "265     qd9    尴尬    1\n",
      "279     qd9   假大空    1\n",
      "291     qd9  不堪入目    1\n",
      "297     qd9    弱智    1\n",
      "326     qd9    尴尬    1\n",
      "352     qd9    偶像    1\n",
      "357     qd9    最好    1\n",
      "362     qd9  独步天下    1\n",
      "367     qd9    报仇    3\n",
      "398     qd9    尴尬    2\n",
      "400     qd9    荒唐    1\n",
      "419     qd9    尴尬    1\n",
      "420     qd9    无比    1\n",
      "431     qd9    尴尬    1\n",
      "436     qd9    佳作    1\n",
      "462     qd9    尴尬    1\n",
      "468     qd9  装腔作势    1\n",
      "477     qd9    朋友    1\n",
      "509     qd9  一无是处    1\n",
      "521     qd9    尴尬    2\n",
      "530     qd9    极好    1\n",
      "538     qd9    尴尬    1\n"
     ]
    }
   ],
   "metadata": {}
  },
  {
   "cell_type": "code",
   "execution_count": 9,
   "source": [
    "# 生成数据 word = [('A',10), ('B',9), ('C',8)] 列表+Tuple\r\n",
    "i = 0\r\n",
    "words = []\r\n",
    "counts = []\r\n",
    "while i < len(data):\r\n",
    "    if data['Emotion'][i] in \"qd1\":  # 相等\r\n",
    "        k = data['Word'][i]\r\n",
    "        v = data['Num'][i]\r\n",
    "\r\n",
    "        n = 0\r\n",
    "        flag = 0\r\n",
    "        while n < len(words):\r\n",
    "            # 如果两个单词相同则增加次数\r\n",
    "            if words[n] == k:\r\n",
    "                counts[n] = counts[n] + v\r\n",
    "                flag = 1\r\n",
    "                break\r\n",
    "            n = n + 1\r\n",
    "        # 如果没有找到相同的特征词则添加\r\n",
    "        if flag == 0:\r\n",
    "            words.append(k)\r\n",
    "            counts.append(v)\r\n",
    "    i = i + 1\r\n"
   ],
   "outputs": [],
   "metadata": {}
  },
  {
   "cell_type": "code",
   "execution_count": 10,
   "source": [
    "# 添加最终数组结果\r\n",
    "result = []\r\n",
    "k = 0\r\n",
    "while k < len(words):\r\n",
    "    result.append((words[k], int(counts[k]*5)))  # 注意：因数据集较少,作者扩大5倍方便绘图\r\n",
    "    k = k + 1\r\n",
    "print(result)\r\n"
   ],
   "outputs": [
    {
     "output_type": "stream",
     "name": "stdout",
     "text": [
      "[('闲人', 5), ('猫腻', 25), ('合理', 5), ('白搭', 5), ('十足', 5), ('紧凑', 10), ('堆砌', 5), ('实际', 10), ('小生', 10), ('游荡', 5), ('单薄', 5), ('担心', 20), ('乐天', 5), ('国事', 5), ('忍让', 5), ('手段', 5), ('惆怅', 5), ('散乱', 5), ('缓慢', 5), ('过时', 5), ('大张旗鼓', 5), ('强硬', 5), ('模糊', 5), ('展现', 5)]\n"
     ]
    }
   ],
   "metadata": {}
  },
  {
   "cell_type": "code",
   "execution_count": 11,
   "source": [
    "# ------------------------------------词云分析------------------------------------\r\n",
    "\r\n",
    "# 渲染图\r\n",
    "\r\n",
    "\r\n",
    "def wordcloud_base() -> WordCloud:\r\n",
    "    c = (\r\n",
    "        WordCloud()\r\n",
    "        .add(\"\", result, word_size_range=[5, 200], shape=SymbolType.ROUND_RECT)\r\n",
    "        .set_global_opts(title_opts=opts.TitleOpts(title='情绪词云图-情感强度1'))\r\n",
    "    )\r\n",
    "    return c\r\n",
    "\r\n",
    "\r\n",
    "# 生成图\r\n",
    "wordcloud_base().render('情绪词云图-情感强度1.html')"
   ],
   "outputs": [
    {
     "output_type": "execute_result",
     "data": {
      "text/plain": [
       "'c:\\\\Users\\\\HP\\\\Desktop\\\\NLP\\\\Sentiment-Analysis\\\\2.词云分析\\\\情绪词云图-情感强度.html'"
      ]
     },
     "metadata": {},
     "execution_count": 11
    }
   ],
   "metadata": {}
  },
  {
   "cell_type": "code",
   "execution_count": null,
   "source": [],
   "outputs": [],
   "metadata": {}
  }
 ],
 "metadata": {
  "orig_nbformat": 4,
  "language_info": {
   "name": "python",
   "version": "3.8.5",
   "mimetype": "text/x-python",
   "codemirror_mode": {
    "name": "ipython",
    "version": 3
   },
   "pygments_lexer": "ipython3",
   "nbconvert_exporter": "python",
   "file_extension": ".py"
  },
  "kernelspec": {
   "name": "python3",
   "display_name": "Python 3.8.5 64-bit ('base': conda)"
  },
  "interpreter": {
   "hash": "4905652b14e4b7eb92899b78ac499a22c488804455b27940a322fd82aaf71031"
  }
 },
 "nbformat": 4,
 "nbformat_minor": 2
}