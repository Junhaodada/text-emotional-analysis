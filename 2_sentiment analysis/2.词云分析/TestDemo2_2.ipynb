{
 "cells": [
  {
   "cell_type": "code",
   "execution_count": 1,
   "metadata": {},
   "outputs": [],
   "source": [
    "# coding: utf-8\n",
    "from pyecharts.globals import SymbolType\n",
    "from pyecharts.charts import WordCloud\n",
    "from pyecharts import options as opts\n",
    "import csv\n",
    "import pandas as pd\n",
    "import operator"
   ]
  },
  {
   "cell_type": "markdown",
   "metadata": {},
   "source": [
    "# 统计结果"
   ]
  },
  {
   "cell_type": "code",
   "execution_count": 2,
   "metadata": {},
   "outputs": [
    {
     "name": "stdout",
     "output_type": "stream",
     "text": [
      "  Emotion Word  Num\n",
      "0    good   喜欢    1\n",
      "1     sad   可惜    1\n",
      "2    good   希望    1\n",
      "3    good   不错    1\n",
      "4    good   强大    1\n"
     ]
    }
   ],
   "source": [
    "# 读取数据\n",
    "f = open('Emotion_features.csv',)\n",
    "data = pd.read_csv(f)\n",
    "print(data.head())\n"
   ]
  },
  {
   "cell_type": "code",
   "execution_count": 3,
   "metadata": {},
   "outputs": [
    {
     "name": "stdout",
     "output_type": "stream",
     "text": [
      "Emotion\n",
      "anger         2\n",
      "disgust     203\n",
      "fear          8\n",
      "good        248\n",
      "happy        36\n",
      "sad          38\n",
      "surprise     11\n",
      "dtype: int64\n",
      "\n"
     ]
    }
   ],
   "source": [
    "# 统计结果\n",
    "groupnum = data.groupby(['Emotion']).size()\n",
    "print(groupnum)\n",
    "print(\"\")"
   ]
  },
  {
   "cell_type": "code",
   "execution_count": 4,
   "metadata": {},
   "outputs": [
    {
     "name": "stdout",
     "output_type": "stream",
     "text": [
      "anger\n",
      "    Emotion Word  Num\n",
      "124   anger   气愤    1\n",
      "366   anger   报仇    3\n",
      "disgust\n",
      "     Emotion  Word  Num\n",
      "9    disgust    反派    1\n",
      "11   disgust  天昏地暗    1\n",
      "17   disgust    闲人    1\n",
      "24   disgust    好笑    1\n",
      "25   disgust    好笑    1\n",
      "..       ...   ...  ...\n",
      "522  disgust    阴谋    1\n",
      "532  disgust    尴尬    1\n",
      "535  disgust    刺激    1\n",
      "543  disgust    紧张    1\n",
      "544  disgust    紧张    1\n",
      "\n",
      "[203 rows x 3 columns]\n",
      "fear\n",
      "    Emotion  Word  Num\n",
      "81     fear   鸿门宴    1\n",
      "100    fear    吓人    1\n",
      "136    fear    可怕    1\n",
      "157    fear  没头苍蝇    1\n",
      "196    fear    厉害    1\n",
      "286    fear  刀光剑影    1\n",
      "287    fear    忌惮    1\n",
      "332    fear  无时无刻    1\n",
      "good\n",
      "    Emotion  Word  Num\n",
      "0      good    喜欢    1\n",
      "2      good    希望    1\n",
      "3      good    不错    1\n",
      "4      good    强大    1\n",
      "5      good    认可    1\n",
      "..      ...   ...  ...\n",
      "538    good    节奏    1\n",
      "539    good  赏心悦目    1\n",
      "540    good  赏心悦目    1\n",
      "542    good    喜欢    1\n",
      "545    good    可爱    1\n",
      "\n",
      "[248 rows x 3 columns]\n",
      "happy\n",
      "    Emotion  Word  Num\n",
      "8     happy    惊喜    1\n",
      "18    happy    起来    1\n",
      "73    happy    起来    1\n",
      "79    happy    成功    1\n",
      "80    happy    喜剧    1\n",
      "102   happy    欢快    1\n",
      "103   happy    轻快    1\n",
      "126   happy    喜剧    2\n",
      "152   happy    喜剧    1\n",
      "155   happy   兴冲冲    1\n",
      "179   happy    进展    1\n",
      "198   happy    游戏    1\n",
      "202   happy    喜剧    1\n",
      "215   happy    起来    1\n",
      "217   happy    舒服    1\n",
      "247   happy    起来    1\n",
      "266   happy    轻松    1\n",
      "270   happy    舒服    1\n",
      "315   happy    舒畅    1\n",
      "333   happy    随意    1\n",
      "337   happy    娱乐    1\n",
      "339   happy    满足    1\n",
      "341   happy    享受    1\n",
      "349   happy    乐天    1\n",
      "420   happy    进展    1\n",
      "445   happy    起来    1\n",
      "453   happy    喜剧    2\n",
      "472   happy    众生    1\n",
      "482   happy    享受    1\n",
      "485   happy  诸如此类    1\n",
      "503   happy    缥缈    1\n",
      "507   happy    舒服    1\n",
      "515   happy    摆脱    1\n",
      "525   happy    高兴    1\n",
      "526   happy    自豪    1\n",
      "529   happy    庆幸    1\n",
      "sad\n",
      "    Emotion  Word  Num\n",
      "1       sad    可惜    1\n",
      "56      sad  大失所望    1\n",
      "64      sad    白搭    1\n",
      "68      sad    情感    1\n",
      "86      sad    可惜    1\n",
      "111     sad    可惜    1\n",
      "114     sad    失望    1\n",
      "120     sad    失望    1\n",
      "130     sad    失望    1\n",
      "132     sad  鹤唳华亭    1\n",
      "142     sad  引人深思    1\n",
      "153     sad    失望    1\n",
      "154     sad  鹤唳华亭    1\n",
      "162     sad    不行    1\n",
      "164     sad    可惜    1\n",
      "174     sad  鹤唳华亭    1\n",
      "176     sad    失望    1\n",
      "209     sad    不行    1\n",
      "211     sad    失望    1\n",
      "226     sad    可惜    1\n",
      "236     sad    艰苦    2\n",
      "243     sad   俏皮话    1\n",
      "248     sad  鹤唳华亭    1\n",
      "250     sad    不行    1\n",
      "253     sad  鹤唳华亭    1\n",
      "291     sad    失望    1\n",
      "304     sad    失望    1\n",
      "326     sad    无语    1\n",
      "346     sad    回忆    1\n",
      "357     sad    不行    1\n",
      "368     sad    悲剧    1\n",
      "388     sad    不行    1\n",
      "398     sad    无语    1\n",
      "401     sad    失望    1\n",
      "408     sad  江河日下    1\n",
      "458     sad    失望    1\n",
      "480     sad    战乱    2\n",
      "498     sad    不忍    1\n",
      "surprise\n",
      "      Emotion  Word  Num\n",
      "57   surprise    奇怪    3\n",
      "93   surprise  稀奇古怪    1\n",
      "139  surprise  意料之外    1\n",
      "171  surprise    神奇    1\n",
      "200  surprise    奇遇    1\n",
      "269  surprise    奇怪    2\n",
      "317  surprise    奇怪    1\n",
      "431  surprise    奇怪    1\n",
      "450  surprise    原来    1\n",
      "451  surprise    好奇    1\n",
      "541  surprise    悬念    1\n"
     ]
    }
   ],
   "source": [
    "# 分组统计\n",
    "for groupname, grouplist in data.groupby('Emotion'):\n",
    "    print(groupname)\n",
    "    print(grouplist)"
   ]
  },
  {
   "cell_type": "code",
   "execution_count": 5,
   "metadata": {},
   "outputs": [],
   "source": [
    "# 生成数据 word = [('A',10), ('B',9), ('C',8)] 列表+Tuple\n",
    "i = 0\n",
    "words = []\n",
    "counts = []\n",
    "while i < len(data):\n",
    "    if data['Emotion'][i] in \"sad\":  # 相等\n",
    "        k = data['Word'][i]\n",
    "        v = data['Num'][i]\n",
    "\n",
    "        n = 0\n",
    "        flag = 0\n",
    "        while n < len(words):\n",
    "            # 如果两个单词相同则增加次数\n",
    "            if words[n] == k:\n",
    "                counts[n] = counts[n] + v\n",
    "                flag = 1\n",
    "                break\n",
    "            n = n + 1\n",
    "        # 如果没有找到相同的特征词则添加\n",
    "        if flag == 0:\n",
    "            words.append(k)\n",
    "            counts.append(v)\n",
    "    i = i + 1\n"
   ]
  },
  {
   "cell_type": "code",
   "execution_count": 6,
   "metadata": {},
   "outputs": [
    {
     "name": "stdout",
     "output_type": "stream",
     "text": [
      "[('可惜', 25), ('大失所望', 5), ('白搭', 5), ('情感', 5), ('失望', 50), ('鹤唳华亭', 25), ('引人深思', 5), ('不行', 25), ('艰苦', 10), ('俏皮话', 5), ('无语', 10), ('回忆', 5), ('悲剧', 5), ('江河日下', 5), ('战乱', 10), ('不忍', 5)]\n"
     ]
    }
   ],
   "source": [
    "# 添加最终数组结果\n",
    "result = []\n",
    "k = 0\n",
    "while k < len(words):\n",
    "    result.append((words[k], int(counts[k]*5)))  # 注意：因数据集较少,作者扩大5倍方便绘图\n",
    "    k = k + 1\n",
    "print(result)"
   ]
  },
  {
   "cell_type": "markdown",
   "metadata": {},
   "source": [
    "# 词云分析"
   ]
  },
  {
   "cell_type": "code",
   "execution_count": 7,
   "metadata": {},
   "outputs": [
    {
     "data": {
      "text/plain": [
       "'C:\\\\Users\\\\HP\\\\Desktop\\\\NLP\\\\Sentiment-Analysis\\\\2.词云分析\\\\情绪词云图.html'"
      ]
     },
     "execution_count": 7,
     "metadata": {},
     "output_type": "execute_result"
    }
   ],
   "source": [
    "# 渲染图\n",
    "\n",
    "\n",
    "def wordcloud_base() -> WordCloud:\n",
    "    c = (\n",
    "        WordCloud()\n",
    "        .add(\"\", result, word_size_range=[5, 200], shape=SymbolType.ROUND_RECT)\n",
    "        .set_global_opts(title_opts=opts.TitleOpts(title='情绪词云图'))\n",
    "    )\n",
    "    return c\n",
    "\n",
    "\n",
    "# 生成图\n",
    "wordcloud_base().render('情绪词云图.html')"
   ]
  },
  {
   "cell_type": "code",
   "execution_count": null,
   "metadata": {},
   "outputs": [],
   "source": []
  }
 ],
 "metadata": {
  "kernelspec": {
   "display_name": "Python [conda env:root] *",
   "language": "python",
   "name": "conda-root-py"
  },
  "language_info": {
   "codemirror_mode": {
    "name": "ipython",
    "version": 3
   },
   "file_extension": ".py",
   "mimetype": "text/x-python",
   "name": "python",
   "nbconvert_exporter": "python",
   "pygments_lexer": "ipython3",
   "version": "3.8.5"
  }
 },
 "nbformat": 4,
 "nbformat_minor": 4
}
